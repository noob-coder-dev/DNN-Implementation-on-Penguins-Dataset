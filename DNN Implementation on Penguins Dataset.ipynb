{
 "cells": [
  {
   "cell_type": "markdown",
   "id": "cc3538e9",
   "metadata": {},
   "source": [
    "## Explore the dataset\n",
    "\n",
    "Let's load the data we need from the Palmer Islands penguins dataset, which contains observations of three different species of penguin. \n",
    " \n",
    " **Citation**: The penguins dataset used in the this project is a subset of data collected and made available by [Dr. Kristen\n",
    "Gorman](https://www.uaf.edu/cfos/people/faculty/detail/kristen-gorman.php)\n",
    "and the [Palmer Station, Antarctica LTER](https://pal.lternet.edu/), a\n",
    "member of the [Long Term Ecological Research\n",
    "Network](https://lternet.edu/)"
   ]
  },
  {
   "cell_type": "code",
   "execution_count": 3,
   "id": "5fff8a5e",
   "metadata": {},
   "outputs": [
    {
     "data": {
      "text/html": [
       "<div>\n",
       "<style scoped>\n",
       "    .dataframe tbody tr th:only-of-type {\n",
       "        vertical-align: middle;\n",
       "    }\n",
       "\n",
       "    .dataframe tbody tr th {\n",
       "        vertical-align: top;\n",
       "    }\n",
       "\n",
       "    .dataframe thead th {\n",
       "        text-align: right;\n",
       "    }\n",
       "</style>\n",
       "<table border=\"1\" class=\"dataframe\">\n",
       "  <thead>\n",
       "    <tr style=\"text-align: right;\">\n",
       "      <th></th>\n",
       "      <th>CulmenLength</th>\n",
       "      <th>CulmenDepth</th>\n",
       "      <th>FlipperLength</th>\n",
       "      <th>BodyMass</th>\n",
       "      <th>Species</th>\n",
       "    </tr>\n",
       "  </thead>\n",
       "  <tbody>\n",
       "    <tr>\n",
       "      <th>309</th>\n",
       "      <td>51.0</td>\n",
       "      <td>18.8</td>\n",
       "      <td>20.3</td>\n",
       "      <td>41.00</td>\n",
       "      <td>2</td>\n",
       "    </tr>\n",
       "    <tr>\n",
       "      <th>281</th>\n",
       "      <td>45.2</td>\n",
       "      <td>17.8</td>\n",
       "      <td>19.8</td>\n",
       "      <td>39.50</td>\n",
       "      <td>2</td>\n",
       "    </tr>\n",
       "    <tr>\n",
       "      <th>322</th>\n",
       "      <td>50.1</td>\n",
       "      <td>17.9</td>\n",
       "      <td>19.0</td>\n",
       "      <td>34.00</td>\n",
       "      <td>2</td>\n",
       "    </tr>\n",
       "    <tr>\n",
       "      <th>336</th>\n",
       "      <td>51.9</td>\n",
       "      <td>19.5</td>\n",
       "      <td>20.6</td>\n",
       "      <td>39.50</td>\n",
       "      <td>2</td>\n",
       "    </tr>\n",
       "    <tr>\n",
       "      <th>299</th>\n",
       "      <td>50.6</td>\n",
       "      <td>19.4</td>\n",
       "      <td>19.3</td>\n",
       "      <td>38.00</td>\n",
       "      <td>2</td>\n",
       "    </tr>\n",
       "    <tr>\n",
       "      <th>93</th>\n",
       "      <td>39.6</td>\n",
       "      <td>18.1</td>\n",
       "      <td>18.6</td>\n",
       "      <td>44.50</td>\n",
       "      <td>0</td>\n",
       "    </tr>\n",
       "    <tr>\n",
       "      <th>253</th>\n",
       "      <td>55.9</td>\n",
       "      <td>17.0</td>\n",
       "      <td>22.8</td>\n",
       "      <td>56.00</td>\n",
       "      <td>1</td>\n",
       "    </tr>\n",
       "    <tr>\n",
       "      <th>169</th>\n",
       "      <td>49.2</td>\n",
       "      <td>15.2</td>\n",
       "      <td>22.1</td>\n",
       "      <td>63.00</td>\n",
       "      <td>1</td>\n",
       "    </tr>\n",
       "    <tr>\n",
       "      <th>279</th>\n",
       "      <td>45.4</td>\n",
       "      <td>18.7</td>\n",
       "      <td>18.8</td>\n",
       "      <td>35.25</td>\n",
       "      <td>2</td>\n",
       "    </tr>\n",
       "    <tr>\n",
       "      <th>285</th>\n",
       "      <td>51.3</td>\n",
       "      <td>19.9</td>\n",
       "      <td>19.8</td>\n",
       "      <td>37.00</td>\n",
       "      <td>2</td>\n",
       "    </tr>\n",
       "  </tbody>\n",
       "</table>\n",
       "</div>"
      ],
      "text/plain": [
       "     CulmenLength  CulmenDepth  FlipperLength  BodyMass  Species\n",
       "309          51.0         18.8           20.3     41.00        2\n",
       "281          45.2         17.8           19.8     39.50        2\n",
       "322          50.1         17.9           19.0     34.00        2\n",
       "336          51.9         19.5           20.6     39.50        2\n",
       "299          50.6         19.4           19.3     38.00        2\n",
       "93           39.6         18.1           18.6     44.50        0\n",
       "253          55.9         17.0           22.8     56.00        1\n",
       "169          49.2         15.2           22.1     63.00        1\n",
       "279          45.4         18.7           18.8     35.25        2\n",
       "285          51.3         19.9           19.8     37.00        2"
      ]
     },
     "execution_count": 3,
     "metadata": {},
     "output_type": "execute_result"
    }
   ],
   "source": [
    "import pandas as pd\n",
    "\n",
    "# load the training dataset (excluding rows with null values)\n",
    "penguins = pd.read_csv('penguins-Copy1.csv').dropna()\n",
    "\n",
    " to the bill measurements\n",
    "penguins['FlipperLength'] = penguins['FlipperLength']/10\n",
    "penguins['BodyMass'] = penguins['BodyMass']/100\n",
    "\n",
    "# The dataset is too small to be useful for deep learning\n",
    "# So I'll oversample it to increase its size\n",
    "for i in range(1,3):\n",
    "    penguins = penguins.append(penguins)\n",
    "\n",
    "# Display a random sample of 10 observations\n",
    "sample = penguins.sample(10)\n",
    "sample"
   ]
  },
  {
   "cell_type": "markdown",
   "id": "9ae11104",
   "metadata": {},
   "source": [
    "The **Species** column is the label our model will predict. Each label value represents a class of penguin species, encoded as 0, 1, or 2. The following code shows the actual species to which these class labels corrrespond."
   ]
  },
  {
   "cell_type": "code",
   "execution_count": 4,
   "id": "fb7cd353",
   "metadata": {},
   "outputs": [
    {
     "name": "stdout",
     "output_type": "stream",
     "text": [
      "['CulmenLength' 'CulmenDepth' 'FlipperLength' 'BodyMass' 'Species'] SpeciesName\n",
      "[ 49.3 15.7 21.7 58.5 1 ] Gentoo\n",
      "[ 40.1 18.9 18.8 43.0 0 ] Adelie\n",
      "[ 39.2 18.6 19.0 42.5 0 ] Adelie\n",
      "[ 55.8 19.8 20.7 40.0 2 ] Chinstrap\n",
      "[ 43.5 18.1 20.2 34.0 2 ] Chinstrap\n",
      "[ 44.9 13.3 21.3 51.0 1 ] Gentoo\n",
      "[ 52.7 19.8 19.7 37.25 2 ] Chinstrap\n",
      "[ 46.4 18.6 19.0 34.5 2 ] Chinstrap\n",
      "[ 37.3 17.8 19.1 33.5 0 ] Adelie\n",
      "[ 50.4 15.3 22.4 55.5 1 ] Gentoo\n"
     ]
    }
   ],
   "source": [
    "penguin_classes = ['Adelie', 'Gentoo', 'Chinstrap']\n",
    "print(sample.columns[0:5].values, 'SpeciesName')\n",
    "for index, row in penguins.sample(10).iterrows():\n",
    "    print('[',row[0], row[1], row[2],row[3], int(row[4]), ']',penguin_classes[int(row[-1])])"
   ]
  },
  {
   "cell_type": "markdown",
   "id": "02d27ab0",
   "metadata": {},
   "source": [
    "As is common in a supervised learning problem, I'll split the dataset into a set of records with which to train the model, and a smaller set with which to validate the trained model."
   ]
  },
  {
   "cell_type": "code",
   "execution_count": 5,
   "id": "ae778def",
   "metadata": {},
   "outputs": [
    {
     "name": "stdout",
     "output_type": "stream",
     "text": [
      "Training Set: 957, Test Set: 411 \n",
      "\n",
      "Sample of features and labels:\n",
      "[51.1 16.5 22.5 52.5] 1 (Gentoo)\n",
      "[50.7 19.7 20.3 40.5] 2 (Chinstrap)\n",
      "[49.5 16.2 22.9 58. ] 1 (Gentoo)\n",
      "[39.3 20.6 19.  36.5] 0 (Adelie)\n",
      "[42.5 20.7 19.7 45. ] 0 (Adelie)\n",
      "[50.  15.3 22.  55.5] 1 (Gentoo)\n",
      "[50.2  18.7  19.8  37.75] 2 (Chinstrap)\n",
      "[50.7 19.7 20.3 40.5] 2 (Chinstrap)\n",
      "[49.1  14.5  21.2  46.25] 1 (Gentoo)\n",
      "[43.2 16.6 18.7 29. ] 2 (Chinstrap)\n",
      "[38.8  17.6  19.1  32.75] 0 (Adelie)\n",
      "[37.8 17.1 18.6 33. ] 0 (Adelie)\n",
      "[45.8 14.2 21.9 47. ] 1 (Gentoo)\n",
      "[43.8 13.9 20.8 43. ] 1 (Gentoo)\n",
      "[36.  17.1 18.7 37. ] 0 (Adelie)\n",
      "[43.3 13.4 20.9 44. ] 1 (Gentoo)\n",
      "[36.  18.5 18.6 31. ] 0 (Adelie)\n",
      "[41.1  19.   18.2  34.25] 0 (Adelie)\n",
      "[33.1 16.1 17.8 29. ] 0 (Adelie)\n",
      "[40.9 13.7 21.4 46.5] 1 (Gentoo)\n",
      "[45.2 17.8 19.8 39.5] 2 (Chinstrap)\n",
      "[48.4 14.6 21.3 58.5] 1 (Gentoo)\n",
      "[43.6 13.9 21.7 49. ] 1 (Gentoo)\n",
      "[38.5  17.9  19.   33.25] 0 (Adelie)\n"
     ]
    }
   ],
   "source": [
    "from sklearn.model_selection import train_test_split\n",
    "\n",
    "features = ['CulmenLength','CulmenDepth','FlipperLength','BodyMass']\n",
    "label = 'Species'\n",
    "   \n",
    "# Split data 70%-30% into training set and test set\n",
    "x_train, x_test, y_train, y_test = train_test_split(penguins[features].values,\n",
    "                                                    penguins[label].values,\n",
    "                                                    test_size=0.30,\n",
    "                                                    random_state=0)\n",
    "\n",
    "print ('Training Set: %d, Test Set: %d \\n' % (len(x_train), len(x_test)))\n",
    "print(\"Sample of features and labels:\")\n",
    "\n",
    "# Take a look at the first 25 training features and corresponding labels\n",
    "for n in range(0,24):\n",
    "    print(x_train[n], y_train[n], '(' + penguin_classes[y_train[n]] + ')')"
   ]
  },
  {
   "cell_type": "markdown",
   "id": "333b5d09",
   "metadata": {},
   "source": [
    "The *features* are the measurements for each penguin observation, and the *label* is a numeric value that indicates the species of penguin that the observation represents (Adelie, Gentoo, or Chinstrap).\n",
    "\n",
    "## Install and import TensorFlow libraries\n",
    "\n",
    "Since I'm planning to use TensorFlow to create this penguin classifier, I'll need to run the following two cells to install and import the libraries I intend to use."
   ]
  },
  {
   "cell_type": "code",
   "execution_count": 6,
   "id": "8faaefe5",
   "metadata": {},
   "outputs": [
    {
     "name": "stdout",
     "output_type": "stream",
     "text": [
      "Libraries imported.\n",
      "Keras version: 2.4.0\n",
      "TensorFlow version: 2.4.1\n"
     ]
    }
   ],
   "source": [
    "import tensorflow\n",
    "from tensorflow import keras\n",
    "from tensorflow.keras import models\n",
    "from tensorflow.keras.models import Sequential\n",
    "from tensorflow.keras.layers import Dense\n",
    "from tensorflow.keras import utils\n",
    "from tensorflow.keras import optimizers\n",
    "\n",
    "# Set random seed for reproducability\n",
    "tensorflow.random.set_seed(0)\n",
    "\n",
    "print(\"Libraries imported.\")\n",
    "print('Keras version:',keras.__version__)\n",
    "print('TensorFlow version:',tensorflow.__version__)"
   ]
  },
  {
   "cell_type": "markdown",
   "id": "c74705bf",
   "metadata": {},
   "source": [
    "## Prepare the data for TensorFlow\n",
    "\n",
    "I've already loaded our data and split it into training and validation datasets. However, I need to do some further data preparation so that this data will work correctly with TensorFlow. Specifically, I need to set the data type of the features to 32-bit floating point numbers, and specify that the labels represent categorical classes rather than numeric values."
   ]
  },
  {
   "cell_type": "code",
   "execution_count": 7,
   "id": "94635922",
   "metadata": {},
   "outputs": [
    {
     "name": "stdout",
     "output_type": "stream",
     "text": [
      "Ready...\n"
     ]
    }
   ],
   "source": [
    "# Set data types for float features\n",
    "x_train = x_train.astype('float32')\n",
    "x_test = x_test.astype('float32')\n",
    "\n",
    "# Set data types for categorical labels\n",
    "y_train = utils.to_categorical(y_train)\n",
    "y_test = utils.to_categorical(y_test)\n",
    "print('Ready...')"
   ]
  },
  {
   "cell_type": "markdown",
   "id": "bbd6208d",
   "metadata": {},
   "source": [
    "## Define a neural network\n",
    "\n",
    "Now I'm ready to define our neural network. In this case, I'll create a network that consists of 3 fully-connected layers:\n",
    "* An input layer that receives an input value for each feature (in this case, the four penguin measurements) and applies a *ReLU* activation function.\n",
    "* A hidden layer that receives ten inputs and applies a *ReLU* activation function.\n",
    "* An output layer that uses a *SoftMax* activation function to generate an output for each penguin species (which represent the classification probabilities for each of the three possible penguin species). Softmax functions produce a vector with probability values that sum to 1."
   ]
  },
  {
   "cell_type": "code",
   "execution_count": 9,
   "id": "954fcfab",
   "metadata": {},
   "outputs": [
    {
     "name": "stdout",
     "output_type": "stream",
     "text": [
      "Model: \"sequential\"\n",
      "_________________________________________________________________\n",
      "Layer (type)                 Output Shape              Param #   \n",
      "=================================================================\n",
      "dense (Dense)                (None, 10)                50        \n",
      "_________________________________________________________________\n",
      "dense_1 (Dense)              (None, 10)                110       \n",
      "_________________________________________________________________\n",
      "dense_2 (Dense)              (None, 3)                 33        \n",
      "=================================================================\n",
      "Total params: 193\n",
      "Trainable params: 193\n",
      "Non-trainable params: 0\n",
      "_________________________________________________________________\n",
      "None\n"
     ]
    }
   ],
   "source": [
    "# Define a classifier network\n",
    "hl = 10 # Number of hidden layer nodes\n",
    "\n",
    "model = Sequential()\n",
    "model.add(Dense(hl, input_dim=len(features), activation='relu'))\n",
    "model.add(Dense(hl, input_dim=hl, activation='relu'))\n",
    "model.add(Dense(len(penguin_classes), input_dim=hl, activation='softmax'))\n",
    "\n",
    "print(model.summary())"
   ]
  },
  {
   "cell_type": "markdown",
   "id": "8e6de385",
   "metadata": {},
   "source": [
    "## Train the model\n",
    "\n",
    "To train the model, I need to repeatedly feed the training values forward through the network, use a loss function to calculate the loss, use an optimizer to backpropagate the weight and bias value adjustments, and validate the model using the test data we withheld.\n",
    "\n",
    "To do this, we'll apply an Adam optimizer to a categorical cross-entropy loss function iteratively over 50 epochs."
   ]
  },
  {
   "cell_type": "code",
   "execution_count": 10,
   "id": "3f58aeb9",
   "metadata": {},
   "outputs": [
    {
     "name": "stdout",
     "output_type": "stream",
     "text": [
      "Epoch 1/50\n",
      "96/96 [==============================] - 1s 10ms/step - loss: 31.1438 - accuracy: 0.1969 - val_loss: 11.2900 - val_accuracy: 0.2165\n",
      "Epoch 2/50\n",
      "96/96 [==============================] - 0s 2ms/step - loss: 7.8160 - accuracy: 0.2031 - val_loss: 1.5626 - val_accuracy: 0.1752\n",
      "Epoch 3/50\n",
      "96/96 [==============================] - 0s 2ms/step - loss: 1.3587 - accuracy: 0.1955 - val_loss: 1.1591 - val_accuracy: 0.3139\n",
      "Epoch 4/50\n",
      "96/96 [==============================] - 0s 2ms/step - loss: 1.1261 - accuracy: 0.3163 - val_loss: 1.0832 - val_accuracy: 0.4453\n",
      "Epoch 5/50\n",
      "96/96 [==============================] - 0s 2ms/step - loss: 1.0618 - accuracy: 0.4275 - val_loss: 1.0545 - val_accuracy: 0.4574\n",
      "Epoch 6/50\n",
      "96/96 [==============================] - 0s 2ms/step - loss: 1.0403 - accuracy: 0.4957 - val_loss: 1.0425 - val_accuracy: 0.4842\n",
      "Epoch 7/50\n",
      "96/96 [==============================] - 0s 2ms/step - loss: 1.0202 - accuracy: 0.5395 - val_loss: 1.0315 - val_accuracy: 0.5547\n",
      "Epoch 8/50\n",
      "96/96 [==============================] - 0s 2ms/step - loss: 1.0188 - accuracy: 0.6026 - val_loss: 1.0189 - val_accuracy: 0.6156\n",
      "Epoch 9/50\n",
      "96/96 [==============================] - 0s 2ms/step - loss: 0.9881 - accuracy: 0.6290 - val_loss: 1.0050 - val_accuracy: 0.6521\n",
      "Epoch 10/50\n",
      "96/96 [==============================] - 0s 2ms/step - loss: 0.9704 - accuracy: 0.6842 - val_loss: 0.9911 - val_accuracy: 0.6618\n",
      "Epoch 11/50\n",
      "96/96 [==============================] - 0s 2ms/step - loss: 0.9606 - accuracy: 0.7131 - val_loss: 0.9781 - val_accuracy: 0.6813\n",
      "Epoch 12/50\n",
      "96/96 [==============================] - 0s 1ms/step - loss: 0.9432 - accuracy: 0.6961 - val_loss: 0.8758 - val_accuracy: 0.6350\n",
      "Epoch 13/50\n",
      "96/96 [==============================] - 0s 1ms/step - loss: 0.8152 - accuracy: 0.7154 - val_loss: 0.7991 - val_accuracy: 0.7129\n",
      "Epoch 14/50\n",
      "96/96 [==============================] - 0s 2ms/step - loss: 0.7517 - accuracy: 0.7371 - val_loss: 0.7380 - val_accuracy: 0.7202\n",
      "Epoch 15/50\n",
      "96/96 [==============================] - 0s 2ms/step - loss: 0.6826 - accuracy: 0.7754 - val_loss: 0.6802 - val_accuracy: 0.7421\n",
      "Epoch 16/50\n",
      "96/96 [==============================] - 0s 1ms/step - loss: 0.6317 - accuracy: 0.7835 - val_loss: 0.6292 - val_accuracy: 0.7470\n",
      "Epoch 17/50\n",
      "96/96 [==============================] - 0s 1ms/step - loss: 0.5733 - accuracy: 0.8021 - val_loss: 0.5871 - val_accuracy: 0.7567\n",
      "Epoch 18/50\n",
      "96/96 [==============================] - 0s 2ms/step - loss: 0.5491 - accuracy: 0.8088 - val_loss: 0.5660 - val_accuracy: 0.7786\n",
      "Epoch 19/50\n",
      "96/96 [==============================] - 0s 2ms/step - loss: 0.4957 - accuracy: 0.8300 - val_loss: 0.5272 - val_accuracy: 0.7786\n",
      "Epoch 20/50\n",
      "96/96 [==============================] - 0s 2ms/step - loss: 0.4809 - accuracy: 0.8125 - val_loss: 0.4849 - val_accuracy: 0.7713\n",
      "Epoch 21/50\n",
      "96/96 [==============================] - 0s 2ms/step - loss: 0.4637 - accuracy: 0.8100 - val_loss: 0.4676 - val_accuracy: 0.7640\n",
      "Epoch 22/50\n",
      "96/96 [==============================] - 0s 2ms/step - loss: 0.4152 - accuracy: 0.8241 - val_loss: 0.4518 - val_accuracy: 0.7689\n",
      "Epoch 23/50\n",
      "96/96 [==============================] - 0s 1ms/step - loss: 0.4051 - accuracy: 0.8290 - val_loss: 0.4383 - val_accuracy: 0.8054\n",
      "Epoch 24/50\n",
      "96/96 [==============================] - 0s 1ms/step - loss: 0.3758 - accuracy: 0.8653 - val_loss: 0.3915 - val_accuracy: 0.8224\n",
      "Epoch 25/50\n",
      "96/96 [==============================] - 0s 1ms/step - loss: 0.3634 - accuracy: 0.8757 - val_loss: 0.3924 - val_accuracy: 0.8808\n",
      "Epoch 26/50\n",
      "96/96 [==============================] - 0s 2ms/step - loss: 0.3603 - accuracy: 0.8988 - val_loss: 0.3521 - val_accuracy: 0.8710\n",
      "Epoch 27/50\n",
      "96/96 [==============================] - 0s 2ms/step - loss: 0.3050 - accuracy: 0.9232 - val_loss: 0.3362 - val_accuracy: 0.8759\n",
      "Epoch 28/50\n",
      "96/96 [==============================] - 0s 2ms/step - loss: 0.3036 - accuracy: 0.9135 - val_loss: 0.3216 - val_accuracy: 0.9002\n",
      "Epoch 29/50\n",
      "96/96 [==============================] - 0s 2ms/step - loss: 0.2905 - accuracy: 0.9255 - val_loss: 0.3074 - val_accuracy: 0.8929\n",
      "Epoch 30/50\n",
      "96/96 [==============================] - 0s 2ms/step - loss: 0.2803 - accuracy: 0.9294 - val_loss: 0.2890 - val_accuracy: 0.9075\n",
      "Epoch 31/50\n",
      "96/96 [==============================] - 0s 3ms/step - loss: 0.2529 - accuracy: 0.9427 - val_loss: 0.2870 - val_accuracy: 0.8662\n",
      "Epoch 32/50\n",
      "96/96 [==============================] - 0s 2ms/step - loss: 0.2504 - accuracy: 0.9327 - val_loss: 0.2752 - val_accuracy: 0.8832\n",
      "Epoch 33/50\n",
      "96/96 [==============================] - 0s 2ms/step - loss: 0.2302 - accuracy: 0.9393 - val_loss: 0.2491 - val_accuracy: 0.9148\n",
      "Epoch 34/50\n",
      "96/96 [==============================] - 0s 1ms/step - loss: 0.2198 - accuracy: 0.9539 - val_loss: 0.2343 - val_accuracy: 0.9367\n",
      "Epoch 35/50\n",
      "96/96 [==============================] - 0s 1ms/step - loss: 0.1995 - accuracy: 0.9608 - val_loss: 0.2233 - val_accuracy: 0.9489\n",
      "Epoch 36/50\n",
      "96/96 [==============================] - 0s 3ms/step - loss: 0.1979 - accuracy: 0.9606 - val_loss: 0.2061 - val_accuracy: 0.9635\n",
      "Epoch 37/50\n",
      "96/96 [==============================] - 0s 3ms/step - loss: 0.1892 - accuracy: 0.9592 - val_loss: 0.2004 - val_accuracy: 0.9562\n",
      "Epoch 38/50\n",
      "96/96 [==============================] - 0s 2ms/step - loss: 0.1616 - accuracy: 0.9649 - val_loss: 0.1851 - val_accuracy: 0.9732\n",
      "Epoch 39/50\n",
      "96/96 [==============================] - 0s 2ms/step - loss: 0.1667 - accuracy: 0.9670 - val_loss: 0.1749 - val_accuracy: 0.9757\n",
      "Epoch 40/50\n",
      "96/96 [==============================] - 0s 2ms/step - loss: 0.1452 - accuracy: 0.9637 - val_loss: 0.1627 - val_accuracy: 0.9684\n",
      "Epoch 41/50\n",
      "96/96 [==============================] - 0s 2ms/step - loss: 0.1418 - accuracy: 0.9782 - val_loss: 0.1555 - val_accuracy: 0.9708\n",
      "Epoch 42/50\n",
      "96/96 [==============================] - 0s 3ms/step - loss: 0.1429 - accuracy: 0.9680 - val_loss: 0.1717 - val_accuracy: 0.9465\n",
      "Epoch 43/50\n",
      "96/96 [==============================] - 0s 2ms/step - loss: 0.1283 - accuracy: 0.9764 - val_loss: 0.1403 - val_accuracy: 0.9805\n",
      "Epoch 44/50\n",
      "96/96 [==============================] - 0s 2ms/step - loss: 0.1157 - accuracy: 0.9787 - val_loss: 0.1313 - val_accuracy: 0.9781\n",
      "Epoch 45/50\n",
      "96/96 [==============================] - 0s 1ms/step - loss: 0.1181 - accuracy: 0.9741 - val_loss: 0.1223 - val_accuracy: 0.9805\n",
      "Epoch 46/50\n",
      "96/96 [==============================] - 0s 1ms/step - loss: 0.1056 - accuracy: 0.9804 - val_loss: 0.1165 - val_accuracy: 0.9830\n",
      "Epoch 47/50\n",
      "96/96 [==============================] - 0s 2ms/step - loss: 0.1058 - accuracy: 0.9794 - val_loss: 0.1173 - val_accuracy: 0.9732\n",
      "Epoch 48/50\n",
      "96/96 [==============================] - 0s 2ms/step - loss: 0.0921 - accuracy: 0.9819 - val_loss: 0.1118 - val_accuracy: 0.9805\n",
      "Epoch 49/50\n",
      "96/96 [==============================] - 0s 2ms/step - loss: 0.0933 - accuracy: 0.9839 - val_loss: 0.1018 - val_accuracy: 0.9830\n",
      "Epoch 50/50\n",
      "96/96 [==============================] - 0s 1ms/step - loss: 0.0883 - accuracy: 0.9854 - val_loss: 0.1046 - val_accuracy: 0.9708\n"
     ]
    }
   ],
   "source": [
    "#hyper-parameters for optimizer\n",
    "learning_rate = 0.001\n",
    "opt = optimizers.Adam(lr=learning_rate)\n",
    "\n",
    "model.compile(loss='categorical_crossentropy',\n",
    "              optimizer=opt,\n",
    "              metrics=['accuracy'])\n",
    "\n",
    "# Train the model over 50 epochs using 10-observation batches and using the test holdout dataset for validation\n",
    "num_epochs = 50\n",
    "history = model.fit(x_train, y_train, epochs=num_epochs, batch_size=10, validation_data=(x_test, y_test))"
   ]
  },
  {
   "cell_type": "markdown",
   "id": "063b09d0",
   "metadata": {},
   "source": [
    "## Review training and validation loss\n",
    "\n",
    "After training is complete, I can examine the loss metrics I've recorded while training and validating the model. I'm looking for two things:\n",
    "* The loss should reduce with each epoch, showing that the model is learning the right weights and biases to predict the correct labels.\n",
    "* The training loss and validation loss should follow a similar trend, showing that the model is not overfitting to the training data.\n",
    "\n",
    "Let's plot the loss metrics and see:"
   ]
  },
  {
   "cell_type": "code",
   "execution_count": 11,
   "id": "53e0b47a",
   "metadata": {},
   "outputs": [
    {
     "data": {
      "image/png": "[encoded data removed]",
      "text/plain": [
       "<Figure size 432x288 with 1 Axes>"
      ]
     },
     "metadata": {
      "needs_background": "light"
     },
     "output_type": "display_data"
    }
   ],
   "source": [
    "%matplotlib inline\n",
    "from matplotlib import pyplot as plt\n",
    "\n",
    "epoch_nums = range(1,num_epochs+1)\n",
    "training_loss = history.history[\"loss\"]\n",
    "validation_loss = history.history[\"val_loss\"]\n",
    "plt.plot(epoch_nums, training_loss)\n",
    "plt.plot(epoch_nums, validation_loss)\n",
    "plt.xlabel('epoch')\n",
    "plt.ylabel('loss')\n",
    "plt.legend(['training', 'validation'], loc='upper right')\n",
    "plt.show()"
   ]
  },
  {
   "cell_type": "markdown",
   "id": "22475af5",
   "metadata": {},
   "source": [
    "## View the learned weights and biases\n",
    "\n",
    "The trained model consists of the final weights and biases that were determined by the optimizer during training. Based on this network model I should expect the following values for each layer:\n",
    "* Layer 1: There are four input values going to ten output nodes, so there should be 4 x 10 weights and 10 bias values.\n",
    "* Layer 2: There are ten input values going to ten output nodes, so there should be 10 x 10 weights and 10 bias values.\n",
    "* Layer 3: There are ten input values going to three output nodes, so there should be 10 x 3 weights and 3 bias values."
   ]
  },
  {
   "cell_type": "code",
   "execution_count": 13,
   "id": "489d9938",
   "metadata": {},
   "outputs": [
    {
     "name": "stdout",
     "output_type": "stream",
     "text": [
      "------------\n",
      "Weights:\n",
      " [[-0.27236846 -0.3841947   0.03324002  0.08020484 -0.10909867  0.05677444\n",
      "  -0.19284697  0.8463786   0.35794353 -0.4905011 ]\n",
      " [ 0.27471453  0.21265197  0.08151422 -0.17707926 -0.10406601  0.80808705\n",
      "   0.34789595 -0.05428036 -0.6077915  -0.5447268 ]\n",
      " [-0.28836262 -0.634329    0.2833845   0.34767175  0.23550075 -0.01212112\n",
      "   0.14559276 -0.7978691  -0.5164287   0.3296095 ]\n",
      " [-0.42851955 -0.24623463 -0.28597653 -0.5230521  -0.43773973  0.36985767\n",
      "  -0.0764817   0.23638226  0.7525387  -0.4691702 ]] \n",
      "Biases:\n",
      " [ 0.          0.         -0.01292539  0.          0.          0.20184611\n",
      " -0.19173318 -0.2613485  -0.31521487  0.        ]\n",
      "------------\n",
      "Weights:\n",
      " [[ 0.0607031  -0.30530828  0.39975524  0.3037489   0.15896738  0.03326017\n",
      "  -0.53190327  0.40915883 -0.03316814 -0.1240823 ]\n",
      " [ 0.42301047  0.14984506 -0.54566675  0.3919103  -0.4295466   0.50397205\n",
      "  -0.31616646  0.17803025 -0.41518384 -0.38429344]\n",
      " [ 0.5336163   0.37752342 -0.4694244   0.17206895 -0.04215616  0.5297911\n",
      "   0.4356906   0.28243893  0.26588047 -0.2233491 ]\n",
      " [-0.04491103  0.19579428 -0.26655364  0.17358297  0.3112036   0.53520477\n",
      "  -0.3109483  -0.5284722  -0.00098199 -0.44063687]\n",
      " [ 0.5135      0.39074183  0.39206952 -0.03048635  0.02663547  0.20555359\n",
      "   0.09307003  0.24590033 -0.49007446 -0.2917699 ]\n",
      " [ 0.5036509  -0.3901862   0.6040683   0.29417115 -0.26569188 -0.5313456\n",
      "   0.41427454 -0.15646034  0.00371227 -0.04586926]\n",
      " [ 0.26545775 -0.19090915  0.06543597 -0.30627972  0.12806404 -0.38203925\n",
      "  -0.21518531  0.41642922  0.2622466  -0.49726105]\n",
      " [-0.43842497 -0.21495155 -0.14270845 -0.46094683 -0.20800981  0.3025053\n",
      "  -0.01376527  0.4088537   0.27342096 -0.25861204]\n",
      " [-0.5077288  -0.4176368  -0.24631909 -0.49696004 -0.27225545 -0.38996994\n",
      "  -0.40839186  0.16560256 -0.26306108  0.2282074 ]\n",
      " [ 0.32320213 -0.30822456 -0.37115166  0.45703936 -0.35191107  0.24120325\n",
      "  -0.2000556   0.23292273 -0.33508268 -0.51532805]] \n",
      "Biases:\n",
      " [-0.03101528  0.          0.4381842   0.          0.          0.\n",
      "  0.1223659  -0.2920466  -0.30325168 -0.0152769 ]\n",
      "------------\n",
      "Weights:\n",
      " [[-0.3835068   0.32607827 -0.04719009]\n",
      " [ 0.50995994 -0.12620813 -0.6595991 ]\n",
      " [ 0.5340331   0.02766317 -0.21622917]\n",
      " [ 0.54463303 -0.50025463  0.06109887]\n",
      " [ 0.26757038 -0.67376095 -0.18467396]\n",
      " [ 0.08888024 -0.2536324   0.20257705]\n",
      " [ 1.1713442  -1.5687052   0.6411084 ]\n",
      " [-0.49163952  0.38573593  0.1955237 ]\n",
      " [-0.5256168  -0.34712172  0.6831371 ]\n",
      " [ 0.6409571  -0.6129823  -0.03113725]] \n",
      "Biases:\n",
      " [ 0.32175827  0.46051517 -0.4932575 ]\n"
     ]
    }
   ],
   "source": [
    "for layer in model.layers:\n",
    "    weights = layer.get_weights()[0]\n",
    "    biases = layer.get_weights()[1]\n",
    "    print('------------\\nWeights:\\n',weights,'\\nBiases:\\n', biases)"
   ]
  },
  {
   "cell_type": "markdown",
   "id": "b33136ec",
   "metadata": {},
   "source": [
    "## Evaluate model performance\n",
    "\n",
    "So, is the model any good? The raw accuracy reported from the validation data would seem to indicate that it predicts pretty well; but it's typically useful to dig a little deeper and compare the predictions for each possible class. A common way to visualize the performace of a classification model is to create a *confusion matrix* that shows a crosstab of correct and incorrect predictions for each class."
   ]
  },
  {
   "cell_type": "code",
   "execution_count": 14,
   "id": "b0bc9a67",
   "metadata": {},
   "outputs": [
    {
     "data": {
      "image/png": "[encoded data removed]",
      "text/plain": [
       "<Figure size 432x288 with 2 Axes>"
      ]
     },
     "metadata": {
      "needs_background": "light"
     },
     "output_type": "display_data"
    }
   ],
   "source": [
    "# Tensorflow doesn't have a built-in confusion matrix metric, so we'll use SciKit-Learn\n",
    "import numpy as np\n",
    "from sklearn.metrics import confusion_matrix\n",
    "import matplotlib.pyplot as plt\n",
    "%matplotlib inline\n",
    "\n",
    "\n",
    "class_probabilities = model.predict(x_test)\n",
    "predictions = np.argmax(class_probabilities, axis=1)\n",
    "true_labels = np.argmax(y_test, axis=1)\n",
    "\n",
    "# Plot the confusion matrix\n",
    "cm = confusion_matrix(true_labels, predictions)\n",
    "plt.imshow(cm, interpolation=\"nearest\", cmap=plt.cm.Blues)\n",
    "plt.colorbar()\n",
    "tick_marks = np.arange(len(penguin_classes))\n",
    "plt.xticks(tick_marks, penguin_classes, rotation=85)\n",
    "plt.yticks(tick_marks, penguin_classes)\n",
    "plt.xlabel(\"Actual Class\")\n",
    "plt.ylabel(\"Predicted Class\")\n",
    "plt.show()"
   ]
  },
  {
   "cell_type": "markdown",
   "id": "df48019d",
   "metadata": {},
   "source": [
    "The confusion matrix should show a strong diagonal line indicating that there are more correct than incorrect predictions for each class.\n",
    "\n",
    "## Save the trained model\n",
    "Now that we have a model we believe is reasonably accurate, we can save its trained weights for use later."
   ]
  },
  {
   "cell_type": "code",
   "execution_count": null,
   "id": "2fb64c01",
   "metadata": {},
   "outputs": [],
   "source": []
  }
 ],
 "metadata": {
  "kernelspec": {
   "display_name": "Python 3",
   "language": "python",
   "name": "python3"
  },
  "language_info": {
   "codemirror_mode": {
    "name": "ipython",
    "version": 3
   },
   "file_extension": ".py",
   "mimetype": "text/x-python",
   "name": "python",
   "nbconvert_exporter": "python",
   "pygments_lexer": "ipython3",
   "version": "3.8.8"
  }
 },
 "nbformat": 4,
 "nbformat_minor": 5
}
